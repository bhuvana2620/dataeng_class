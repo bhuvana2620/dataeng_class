{
  "nbformat": 4,
  "nbformat_minor": 0,
  "metadata": {
    "colab": {
      "provenance": []
    },
    "kernelspec": {
      "name": "python3",
      "display_name": "Python 3"
    },
    "language_info": {
      "name": "python"
    }
  },
  "cells": [
    {
      "cell_type": "code",
      "execution_count": null,
      "metadata": {
        "colab": {
          "base_uri": "https://localhost:8080/"
        },
        "id": "7Uj9Cjpo2yuP",
        "outputId": "436ced82-adbf-4ea2-9c11-3286f45c790e"
      },
      "outputs": [
        {
          "output_type": "stream",
          "name": "stdout",
          "text": [
            "   EVENT_NO_TRIP  EVENT_NO_STOP            OPD_DATE  VEHICLE_ID  METERS  \\\n",
            "0      259172515      259172517  15FEB2023:00:00:00        4223      40   \n",
            "1      259172515      259172517  15FEB2023:00:00:00        4223      48   \n",
            "2      259172515      259172517  15FEB2023:00:00:00        4223      57   \n",
            "3      259172515      259172517  15FEB2023:00:00:00        4223      73   \n",
            "4      259172515      259172517  15FEB2023:00:00:00        4223     112   \n",
            "\n",
            "   ACT_TIME  GPS_LONGITUDE  GPS_LATITUDE  GPS_SATELLITES  GPS_HDOP  \n",
            "0     20469    -122.648137     45.493082              12       0.7  \n",
            "1     20474    -122.648240     45.493070              12       0.8  \n",
            "2     20479    -122.648352     45.493123              12       0.8  \n",
            "3     20484    -122.648385     45.493262              12       0.7  \n",
            "4     20489    -122.648347     45.493582              12       0.8  \n"
          ]
        }
      ],
      "source": [
        "import pandas as pd\n",
        "\n",
        "# Read the CSV file into a DataFrame\n",
        "df = pd.read_csv(\"bc_trip259172515_230215.csv\")\n",
        "\n",
        "# Display the first few rows of the DataFrame to check if data is loaded correctly\n",
        "print(df.head())"
      ]
    },
    {
      "cell_type": "code",
      "source": [
        "# Remove columns using drop() method\n",
        "df_filtered_drop = df.drop(columns=['EVENT_NO_STOP', 'GPS_SATELLITES', 'GPS_HDOP'])\n",
        "\n",
        "# Display the first few rows of the filtered DataFrame\n",
        "print(df_filtered_drop.head())\n",
        "\n",
        "# Now let's try filtering columns using the usecols parameter of read_csv()\n",
        "df_filtered_read_csv = pd.read_csv(\"bc_trip259172515_230215.csv\", usecols=lambda col: col not in ['EVENT_NO_STOP', 'GPS_SATELLITES', 'GPS_HDOP'])\n",
        "\n",
        "# Display the first few rows of the filtered DataFrame\n",
        "print(df_filtered_read_csv.head())\n"
      ],
      "metadata": {
        "colab": {
          "base_uri": "https://localhost:8080/"
        },
        "id": "NQrz6PM-3yiS",
        "outputId": "1c762f23-3ce3-4527-af58-66fc7331236c"
      },
      "execution_count": null,
      "outputs": [
        {
          "output_type": "stream",
          "name": "stdout",
          "text": [
            "   EVENT_NO_TRIP            OPD_DATE  VEHICLE_ID  METERS  ACT_TIME  \\\n",
            "0      259172515  15FEB2023:00:00:00        4223      40     20469   \n",
            "1      259172515  15FEB2023:00:00:00        4223      48     20474   \n",
            "2      259172515  15FEB2023:00:00:00        4223      57     20479   \n",
            "3      259172515  15FEB2023:00:00:00        4223      73     20484   \n",
            "4      259172515  15FEB2023:00:00:00        4223     112     20489   \n",
            "\n",
            "   GPS_LONGITUDE  GPS_LATITUDE  \n",
            "0    -122.648137     45.493082  \n",
            "1    -122.648240     45.493070  \n",
            "2    -122.648352     45.493123  \n",
            "3    -122.648385     45.493262  \n",
            "4    -122.648347     45.493582  \n",
            "   EVENT_NO_TRIP            OPD_DATE  VEHICLE_ID  METERS  ACT_TIME  \\\n",
            "0      259172515  15FEB2023:00:00:00        4223      40     20469   \n",
            "1      259172515  15FEB2023:00:00:00        4223      48     20474   \n",
            "2      259172515  15FEB2023:00:00:00        4223      57     20479   \n",
            "3      259172515  15FEB2023:00:00:00        4223      73     20484   \n",
            "4      259172515  15FEB2023:00:00:00        4223     112     20489   \n",
            "\n",
            "   GPS_LONGITUDE  GPS_LATITUDE  \n",
            "0    -122.648137     45.493082  \n",
            "1    -122.648240     45.493070  \n",
            "2    -122.648352     45.493123  \n",
            "3    -122.648385     45.493262  \n",
            "4    -122.648347     45.493582  \n"
          ]
        }
      ]
    },
    {
      "cell_type": "code",
      "source": [
        "import pandas as pd\n",
        "from datetime import datetime, timedelta\n",
        "\n",
        "# Read the CSV file into a DataFrame\n",
        "df = pd.read_csv(\"bc_trip259172515_230215.csv\")\n",
        "\n",
        "# Decode the timestamp\n",
        "def decode_timestamp(row):\n",
        "    opd_date = datetime.strptime(row['OPD_DATE'], \"%d%b%Y:%H:%M:%S\")\n",
        "    act_time_delta = timedelta(seconds=row['ACT_TIME'])\n",
        "    return opd_date + act_time_delta\n",
        "\n",
        "# Create the 'TIMESTAMP' column\n",
        "df['TIMESTAMP'] = df.apply(decode_timestamp, axis=1)\n",
        "\n",
        "# Display the DataFrame with the new 'TIMESTAMP' column\n",
        "print(df.head())"
      ],
      "metadata": {
        "colab": {
          "base_uri": "https://localhost:8080/"
        },
        "id": "SfJFlPmZ5E2O",
        "outputId": "28fe94e2-b287-4cd5-af90-d4b897256ea4"
      },
      "execution_count": null,
      "outputs": [
        {
          "output_type": "stream",
          "name": "stdout",
          "text": [
            "   EVENT_NO_TRIP  EVENT_NO_STOP            OPD_DATE  VEHICLE_ID  METERS  \\\n",
            "0      259172515      259172517  15FEB2023:00:00:00        4223      40   \n",
            "1      259172515      259172517  15FEB2023:00:00:00        4223      48   \n",
            "2      259172515      259172517  15FEB2023:00:00:00        4223      57   \n",
            "3      259172515      259172517  15FEB2023:00:00:00        4223      73   \n",
            "4      259172515      259172517  15FEB2023:00:00:00        4223     112   \n",
            "\n",
            "   ACT_TIME  GPS_LONGITUDE  GPS_LATITUDE  GPS_SATELLITES  GPS_HDOP  \\\n",
            "0     20469    -122.648137     45.493082              12       0.7   \n",
            "1     20474    -122.648240     45.493070              12       0.8   \n",
            "2     20479    -122.648352     45.493123              12       0.8   \n",
            "3     20484    -122.648385     45.493262              12       0.7   \n",
            "4     20489    -122.648347     45.493582              12       0.8   \n",
            "\n",
            "            TIMESTAMP  \n",
            "0 2023-02-15 05:41:09  \n",
            "1 2023-02-15 05:41:14  \n",
            "2 2023-02-15 05:41:19  \n",
            "3 2023-02-15 05:41:24  \n",
            "4 2023-02-15 05:41:29  \n"
          ]
        }
      ]
    },
    {
      "cell_type": "code",
      "source": [
        "# Remove the 'OPD_DATE' and 'ACT_TIME' columns\n",
        "df = df.drop(columns=['OPD_DATE', 'ACT_TIME'])\n",
        "\n",
        "# Display the DataFrame to confirm the columns are removed\n",
        "print(df.head())"
      ],
      "metadata": {
        "colab": {
          "base_uri": "https://localhost:8080/"
        },
        "id": "l-KBH2r_57Qe",
        "outputId": "deb22a4a-1c5c-4744-b22c-75b355ceff0d"
      },
      "execution_count": null,
      "outputs": [
        {
          "output_type": "stream",
          "name": "stdout",
          "text": [
            "   EVENT_NO_TRIP  EVENT_NO_STOP  VEHICLE_ID  METERS  GPS_LONGITUDE  \\\n",
            "0      259172515      259172517        4223      40    -122.648137   \n",
            "1      259172515      259172517        4223      48    -122.648240   \n",
            "2      259172515      259172517        4223      57    -122.648352   \n",
            "3      259172515      259172517        4223      73    -122.648385   \n",
            "4      259172515      259172517        4223     112    -122.648347   \n",
            "\n",
            "   GPS_LATITUDE  GPS_SATELLITES  GPS_HDOP           TIMESTAMP  \n",
            "0     45.493082              12       0.7 2023-02-15 05:41:09  \n",
            "1     45.493070              12       0.8 2023-02-15 05:41:14  \n",
            "2     45.493123              12       0.8 2023-02-15 05:41:19  \n",
            "3     45.493262              12       0.7 2023-02-15 05:41:24  \n",
            "4     45.493582              12       0.8 2023-02-15 05:41:29  \n"
          ]
        }
      ]
    },
    {
      "cell_type": "code",
      "source": [
        "import pandas as pd\n",
        "\n",
        "# Read the CSV file into a DataFrame\n",
        "df = pd.read_csv(\"bc_trip259172515_230215.csv\")\n",
        "\n",
        "# Decode the timestamp\n",
        "def decode_timestamp(row):\n",
        "    opd_date = pd.to_datetime(row['OPD_DATE'], format='%d%b%Y:%H:%M:%S')\n",
        "    act_time_delta = pd.to_timedelta(row['ACT_TIME'], unit='s')\n",
        "    return opd_date + act_time_delta\n",
        "\n",
        "# Create the 'TIMESTAMP' column\n",
        "df['TIMESTAMP'] = df.apply(decode_timestamp, axis=1)\n",
        "\n",
        "# Calculate time difference and distance traveled\n",
        "df['dTIMESTAMP'] = df['TIMESTAMP'].diff()\n",
        "df['dMETERS'] = df['METERS'].diff()\n",
        "\n",
        "# Calculate speed\n",
        "df['SPEED'] = df['dMETERS'] / df['dTIMESTAMP'].dt.total_seconds()\n",
        "\n",
        "# Drop the intermediate columns\n",
        "df = df.drop(columns=['dTIMESTAMP', 'dMETERS'])\n",
        "\n",
        "# Display the DataFrame with the new 'SPEED' column\n",
        "print(df.head())\n",
        "\n",
        "# Calculate minimum, maximum, and average speed\n",
        "speed_stats = df['SPEED'].describe()\n",
        "print(\"\\nMinimum speed:\", speed_stats['min'])\n",
        "print(\"Maximum speed:\", speed_stats['max'])\n",
        "print(\"Average speed:\", speed_stats['mean'])"
      ],
      "metadata": {
        "colab": {
          "base_uri": "https://localhost:8080/"
        },
        "id": "qiTSHKLU7sWJ",
        "outputId": "7fff395f-5173-4b29-da58-73431e6ce5ef"
      },
      "execution_count": null,
      "outputs": [
        {
          "output_type": "stream",
          "name": "stdout",
          "text": [
            "   EVENT_NO_TRIP  EVENT_NO_STOP            OPD_DATE  VEHICLE_ID  METERS  \\\n",
            "0      259172515      259172517  15FEB2023:00:00:00        4223      40   \n",
            "1      259172515      259172517  15FEB2023:00:00:00        4223      48   \n",
            "2      259172515      259172517  15FEB2023:00:00:00        4223      57   \n",
            "3      259172515      259172517  15FEB2023:00:00:00        4223      73   \n",
            "4      259172515      259172517  15FEB2023:00:00:00        4223     112   \n",
            "\n",
            "   ACT_TIME  GPS_LONGITUDE  GPS_LATITUDE  GPS_SATELLITES  GPS_HDOP  \\\n",
            "0     20469    -122.648137     45.493082              12       0.7   \n",
            "1     20474    -122.648240     45.493070              12       0.8   \n",
            "2     20479    -122.648352     45.493123              12       0.8   \n",
            "3     20484    -122.648385     45.493262              12       0.7   \n",
            "4     20489    -122.648347     45.493582              12       0.8   \n",
            "\n",
            "            TIMESTAMP  SPEED  \n",
            "0 2023-02-15 05:41:09    NaN  \n",
            "1 2023-02-15 05:41:14    1.6  \n",
            "2 2023-02-15 05:41:19    1.8  \n",
            "3 2023-02-15 05:41:24    3.2  \n",
            "4 2023-02-15 05:41:29    7.8  \n",
            "\n",
            "Minimum speed: 0.0\n",
            "Maximum speed: 17.4\n",
            "Average speed: 7.227205815018314\n"
          ]
        }
      ]
    },
    {
      "cell_type": "code",
      "source": [
        "# Calculate time difference and distance traveled\n",
        "df['dTIMESTAMP'] = df['TIMESTAMP'].diff()\n",
        "df['dMETERS'] = df['METERS'].diff()\n",
        "\n",
        "# Calculate speed\n",
        "df['SPEED'] = df['dMETERS'] / df['dTIMESTAMP'].dt.total_seconds()\n",
        "\n",
        "df = df.drop(columns=['dTIMESTAMP', 'dMETERS'])\n",
        "\n",
        "# Display the DataFrame with the new 'SPEED' column\n",
        "print(df.head())\n",
        "\n",
        "# Calculate minimum, maximum, and average speed\n",
        "speed_stats = df['SPEED'].describe()\n",
        "print(\"\\nMinimum speed:\", speed_stats['min'])\n",
        "print(\"Maximum speed:\", speed_stats['max'])\n",
        "print(\"Average speed:\", speed_stats['mean'])"
      ],
      "metadata": {
        "colab": {
          "base_uri": "https://localhost:8080/"
        },
        "id": "_EKNhP1q6O5s",
        "outputId": "56bbdaea-9577-40a0-9ecf-5f69250d6caf"
      },
      "execution_count": null,
      "outputs": [
        {
          "output_type": "stream",
          "name": "stdout",
          "text": [
            "   EVENT_NO_TRIP  EVENT_NO_STOP  VEHICLE_ID  METERS  GPS_LONGITUDE  \\\n",
            "0      259172515      259172517        4223      40    -122.648137   \n",
            "1      259172515      259172517        4223      48    -122.648240   \n",
            "2      259172515      259172517        4223      57    -122.648352   \n",
            "3      259172515      259172517        4223      73    -122.648385   \n",
            "4      259172515      259172517        4223     112    -122.648347   \n",
            "\n",
            "   GPS_LATITUDE  GPS_SATELLITES  GPS_HDOP           TIMESTAMP  SPEED  \n",
            "0     45.493082              12       0.7 2023-02-15 05:41:09    NaN  \n",
            "1     45.493070              12       0.8 2023-02-15 05:41:14    1.6  \n",
            "2     45.493123              12       0.8 2023-02-15 05:41:19    1.8  \n",
            "3     45.493262              12       0.7 2023-02-15 05:41:24    3.2  \n",
            "4     45.493582              12       0.8 2023-02-15 05:41:29    7.8  \n",
            "\n",
            "Minimum speed: 0.0\n",
            "Maximum speed: 17.4\n",
            "Average speed: 7.227205815018314\n"
          ]
        }
      ]
    },
    {
      "cell_type": "code",
      "source": [
        "# Read the larger CSV file into a DataFrame\n",
        "df_large = pd.read_csv(\"bc_veh4223_230215.csv\")\n",
        "\n",
        "# Display the first few rows of the DataFrame to check if data is loaded correctly\n",
        "print(df_large.head())"
      ],
      "metadata": {
        "colab": {
          "base_uri": "https://localhost:8080/"
        },
        "id": "PYrKq68F-KSO",
        "outputId": "3e518730-6ac4-4b66-e968-58b347c0be12"
      },
      "execution_count": null,
      "outputs": [
        {
          "output_type": "stream",
          "name": "stdout",
          "text": [
            "   EVENT_NO_TRIP  EVENT_NO_STOP            OPD_DATE  VEHICLE_ID  METERS  \\\n",
            "0      259173279      259173350  15FEB2023:00:00:00        4223  194493   \n",
            "1      259173279      259173350  15FEB2023:00:00:00        4223  194525   \n",
            "2      259173279      259173350  15FEB2023:00:00:00        4223  194562   \n",
            "3      259173279      259173350  15FEB2023:00:00:00        4223  194598   \n",
            "4      259173279      259173350  15FEB2023:00:00:00        4223  194628   \n",
            "\n",
            "   ACT_TIME  GPS_LONGITUDE  GPS_LATITUDE  GPS_SATELLITES  GPS_HDOP  \n",
            "0     71279    -122.679572     45.517122               8       1.6  \n",
            "1     71284    -122.679408     45.517392               8       1.9  \n",
            "2     71290    -122.679227     45.517700               8       2.2  \n",
            "3     71295    -122.679048     45.517998               9       0.9  \n",
            "4     71300    -122.678888     45.518255               9       1.3  \n"
          ]
        }
      ]
    },
    {
      "cell_type": "code",
      "source": [
        "# Group the data by 'EVENT_NO_TRIP'\n",
        "grouped = df_large.groupby('EVENT_NO_TRIP')\n",
        "\n",
        "# Initialize an empty list to store the transformed DataFrames\n",
        "dfs = []\n",
        "\n",
        "# Iterate over each group and perform transformations\n",
        "for name, group in grouped:\n",
        "    # Step 3: Perform transformations (filtering, decoding timestamp, calculating speed)\n",
        "    # Filtering: Drop unnecessary columns\n",
        "    group = group.drop(columns=['EVENT_NO_STOP', 'GPS_SATELLITES', 'GPS_HDOP'])\n",
        "\n",
        "    # Decoding timestamp\n",
        "    group['TIMESTAMP'] = group.apply(decode_timestamp, axis=1)\n",
        "\n",
        "    # Calculate time difference and distance traveled\n",
        "    group['dTIMESTAMP'] = group['TIMESTAMP'].diff()\n",
        "    group['dMETERS'] = group['METERS'].diff()\n",
        "\n",
        "    # Calculate speed\n",
        "    group['SPEED'] = group['dMETERS'] / group['dTIMESTAMP'].dt.total_seconds()\n",
        "\n",
        "    # Drop intermediate columns\n",
        "    group = group.drop(columns=['dTIMESTAMP', 'dMETERS'])\n",
        "\n",
        "    # Append the transformed DataFrame to the list\n",
        "    dfs.append(group)\n",
        "\n",
        "# Combine the transformed DataFrames into a single DataFrame\n",
        "df_large_transformed = pd.concat(dfs)\n",
        "\n",
        "# Display the first few rows of the transformed DataFrame\n",
        "print(df_large_transformed.head())"
      ],
      "metadata": {
        "colab": {
          "base_uri": "https://localhost:8080/"
        },
        "id": "5H-Vb6zg-4X9",
        "outputId": "47acc0bf-49db-44f9-930e-7a21f9fdb3ed"
      },
      "execution_count": null,
      "outputs": [
        {
          "output_type": "stream",
          "name": "stdout",
          "text": [
            "      EVENT_NO_TRIP            OPD_DATE  VEHICLE_ID  METERS  ACT_TIME  \\\n",
            "3617      259169000  15FEB2023:00:00:00        4029    4223     25641   \n",
            "2313      259172515  15FEB2023:00:00:00        4223      40     20469   \n",
            "2314      259172515  15FEB2023:00:00:00        4223      48     20474   \n",
            "2315      259172515  15FEB2023:00:00:00        4223      57     20479   \n",
            "2316      259172515  15FEB2023:00:00:00        4223      73     20484   \n",
            "\n",
            "      GPS_LONGITUDE  GPS_LATITUDE           TIMESTAMP  SPEED  \n",
            "3617    -122.684340     45.508072 2023-02-15 07:07:21    NaN  \n",
            "2313    -122.648137     45.493082 2023-02-15 05:41:09    NaN  \n",
            "2314    -122.648240     45.493070 2023-02-15 05:41:14    1.6  \n",
            "2315    -122.648352     45.493123 2023-02-15 05:41:19    1.8  \n",
            "2316    -122.648385     45.493262 2023-02-15 05:41:24    3.2  \n"
          ]
        }
      ]
    },
    {
      "cell_type": "code",
      "source": [
        "for name, group in grouped:\n",
        "    print(\"\\nTrip:\", name)\n",
        "    print(group.head())"
      ],
      "metadata": {
        "colab": {
          "base_uri": "https://localhost:8080/"
        },
        "id": "w-vR8dfl_1Wh",
        "outputId": "7891fb50-a936-4815-f775-83cb0a878a96"
      },
      "execution_count": null,
      "outputs": [
        {
          "output_type": "stream",
          "name": "stdout",
          "text": [
            "\n",
            "Trip: 259169000\n",
            "      EVENT_NO_TRIP  EVENT_NO_STOP            OPD_DATE  VEHICLE_ID  METERS  \\\n",
            "3617      259169000      259169008  15FEB2023:00:00:00        4029    4223   \n",
            "\n",
            "      ACT_TIME  GPS_LONGITUDE  GPS_LATITUDE  GPS_SATELLITES  GPS_HDOP  \n",
            "3617     25641     -122.68434     45.508072              11       0.8  \n",
            "\n",
            "Trip: 259172515\n",
            "      EVENT_NO_TRIP  EVENT_NO_STOP            OPD_DATE  VEHICLE_ID  METERS  \\\n",
            "2313      259172515      259172517  15FEB2023:00:00:00        4223      40   \n",
            "2314      259172515      259172517  15FEB2023:00:00:00        4223      48   \n",
            "2315      259172515      259172517  15FEB2023:00:00:00        4223      57   \n",
            "2316      259172515      259172517  15FEB2023:00:00:00        4223      73   \n",
            "2317      259172515      259172517  15FEB2023:00:00:00        4223     112   \n",
            "\n",
            "      ACT_TIME  GPS_LONGITUDE  GPS_LATITUDE  GPS_SATELLITES  GPS_HDOP  \n",
            "2313     20469    -122.648137     45.493082              12       0.7  \n",
            "2314     20474    -122.648240     45.493070              12       0.8  \n",
            "2315     20479    -122.648352     45.493123              12       0.8  \n",
            "2316     20484    -122.648385     45.493262              12       0.7  \n",
            "2317     20489    -122.648347     45.493582              12       0.8  \n",
            "\n",
            "Trip: 259172533\n",
            "      EVENT_NO_TRIP  EVENT_NO_STOP            OPD_DATE  VEHICLE_ID  METERS  \\\n",
            "2474      259172533      259172534  15FEB2023:00:00:00        4223    5931   \n",
            "2475      259172533      259172534  15FEB2023:00:00:00        4223    5941   \n",
            "2476      259172533      259172534  15FEB2023:00:00:00        4223    5960   \n",
            "2477      259172533      259172534  15FEB2023:00:00:00        4223    5995   \n",
            "2478      259172533      259172534  15FEB2023:00:00:00        4223    6032   \n",
            "\n",
            "      ACT_TIME  GPS_LONGITUDE  GPS_LATITUDE  GPS_SATELLITES  GPS_HDOP  \n",
            "2474     21444    -122.675808     45.528072              11       0.8  \n",
            "2475     21449    -122.675680     45.528065              11       0.8  \n",
            "2476     21454    -122.675545     45.527932              11       0.8  \n",
            "2477     21459    -122.675540     45.527625              11       0.8  \n",
            "2478     21464    -122.675542     45.527293              11       0.8  \n",
            "\n",
            "Trip: 259172598\n",
            "      EVENT_NO_TRIP  EVENT_NO_STOP            OPD_DATE  VEHICLE_ID  METERS  \\\n",
            "2816      259172598      259172614  15FEB2023:00:00:00        4223   25964   \n",
            "2817      259172598      259172614  15FEB2023:00:00:00        4223   26003   \n",
            "2818      259172598      259172615  15FEB2023:00:00:00        4223   26070   \n",
            "2819      259172598      259172615  15FEB2023:00:00:00        4223   26122   \n",
            "2820      259172598      259172615  15FEB2023:00:00:00        4223   26181   \n",
            "\n",
            "      ACT_TIME  GPS_LONGITUDE  GPS_LATITUDE  GPS_SATELLITES  GPS_HDOP  \n",
            "2816     25965    -122.543652     45.489735              11       0.8  \n",
            "2817     25970    -122.544202     45.489772              11       0.8  \n",
            "2818     26010    -122.545123     45.489760              11       0.8  \n",
            "2819     26015    -122.545798     45.489752              11       0.8  \n",
            "2820     26020    -122.546562     45.489765              11       0.8  \n",
            "\n",
            "Trip: 259172710\n",
            "    EVENT_NO_TRIP  EVENT_NO_STOP            OPD_DATE  VEHICLE_ID  METERS  \\\n",
            "89      259172710      259172760  15FEB2023:00:00:00        4223   58531   \n",
            "90      259172710      259172760  15FEB2023:00:00:00        4223   58553   \n",
            "91      259172710      259172760  15FEB2023:00:00:00        4223   58585   \n",
            "92      259172710      259172760  15FEB2023:00:00:00        4223   58606   \n",
            "93      259172710      259172760  15FEB2023:00:00:00        4223   58618   \n",
            "\n",
            "    ACT_TIME  GPS_LONGITUDE  GPS_LATITUDE  GPS_SATELLITES  GPS_HDOP  \n",
            "89     34059    -122.677697     45.519155              12       0.7  \n",
            "90     34064    -122.677798     45.518993              12       0.8  \n",
            "91     34069    -122.677933     45.518712              12       0.8  \n",
            "92     34074    -122.678027     45.518512              12       0.7  \n",
            "93     34079    -122.678078     45.518418              12       0.7  \n",
            "\n",
            "Trip: 259172823\n",
            "     EVENT_NO_TRIP  EVENT_NO_STOP            OPD_DATE  VEHICLE_ID  METERS  \\\n",
            "246      259172823      259172824  15FEB2023:00:00:00        4223   73932   \n",
            "247      259172823      259172824  15FEB2023:00:00:00        4223   73974   \n",
            "248      259172823      259172824  15FEB2023:00:00:00        4223   74022   \n",
            "249      259172823      259172824  15FEB2023:00:00:00        4223   74075   \n",
            "250      259172823      259172824  15FEB2023:00:00:00        4223   74122   \n",
            "\n",
            "     ACT_TIME  GPS_LONGITUDE  GPS_LATITUDE  GPS_SATELLITES  GPS_HDOP  \n",
            "246     39318    -122.526278     45.489655              12       0.8  \n",
            "247     39323    -122.525725     45.489652              12       0.6  \n",
            "248     39328    -122.525137     45.489532              12       0.6  \n",
            "249     39333    -122.524700     45.489173              12       0.8  \n",
            "250     39338    -122.524310     45.488837              12       0.7  \n",
            "\n",
            "Trip: 259172936\n",
            "     EVENT_NO_TRIP  EVENT_NO_STOP            OPD_DATE  VEHICLE_ID  METERS  \\\n",
            "487      259172936      259172937  15FEB2023:00:00:00        4223  100652   \n",
            "488      259172936      259172937  15FEB2023:00:00:00        4223  100662   \n",
            "489      259172936      259172937  15FEB2023:00:00:00        4223  100668   \n",
            "490      259172936      259172937  15FEB2023:00:00:00        4223  100669   \n",
            "491      259172936      259172937  15FEB2023:00:00:00        4223  100669   \n",
            "\n",
            "     ACT_TIME  GPS_LONGITUDE  GPS_LATITUDE  GPS_SATELLITES  GPS_HDOP  \n",
            "487     45923    -122.638988     45.572607              12       0.8  \n",
            "488     45929    -122.639118     45.572627              12       0.8  \n",
            "489     45934    -122.639208     45.572642              12       0.7  \n",
            "490     45938    -122.639230     45.572647              12       0.7  \n",
            "491     45939    -122.639230     45.572647              12       0.7  \n",
            "\n",
            "Trip: 259173042\n",
            "     EVENT_NO_TRIP  EVENT_NO_STOP            OPD_DATE  VEHICLE_ID  METERS  \\\n",
            "979      259173042      259173056  15FEB2023:00:00:00        4223  128647   \n",
            "980      259173042      259173056  15FEB2023:00:00:00        4223  128656   \n",
            "981      259173042      259173057  15FEB2023:00:00:00        4223  128707   \n",
            "982      259173042      259173057  15FEB2023:00:00:00        4223  128765   \n",
            "983      259173042      259173057  15FEB2023:00:00:00        4223  128836   \n",
            "\n",
            "     ACT_TIME  GPS_LONGITUDE  GPS_LATITUDE  GPS_SATELLITES  GPS_HDOP  \n",
            "979     54190    -122.537918     45.489625              11       2.3  \n",
            "980     54196    -122.538072     45.489642              11       0.8  \n",
            "981     54216    -122.538750     45.489633              11       0.9  \n",
            "982     54221    -122.539507     45.489642              10       0.9  \n",
            "983     54226    -122.540425     45.489657              11       0.8  \n",
            "\n",
            "Trip: 259173163\n",
            "      EVENT_NO_TRIP  EVENT_NO_STOP            OPD_DATE  VEHICLE_ID  METERS  \\\n",
            "1587      259173163      259173164  15FEB2023:00:00:00        4223  152202   \n",
            "1588      259173163      259173164  15FEB2023:00:00:00        4223  152242   \n",
            "1589      259173163      259173164  15FEB2023:00:00:00        4223  152281   \n",
            "1590      259173163      259173164  15FEB2023:00:00:00        4223  152319   \n",
            "1591      259173163      259173164  15FEB2023:00:00:00        4223  152354   \n",
            "\n",
            "      ACT_TIME  GPS_LONGITUDE  GPS_LATITUDE  GPS_SATELLITES  GPS_HDOP  \n",
            "1587     60431    -122.639087     45.572660              11       0.8  \n",
            "1588     60436    -122.639590     45.572750              11       0.8  \n",
            "1589     60441    -122.640067     45.572878              11       0.8  \n",
            "1590     60446    -122.640518     45.573027              11       1.5  \n",
            "1591     60451    -122.640977     45.573008              11       0.8  \n",
            "\n",
            "Trip: 259173279\n",
            "   EVENT_NO_TRIP  EVENT_NO_STOP            OPD_DATE  VEHICLE_ID  METERS  \\\n",
            "0      259173279      259173350  15FEB2023:00:00:00        4223  194493   \n",
            "1      259173279      259173350  15FEB2023:00:00:00        4223  194525   \n",
            "2      259173279      259173350  15FEB2023:00:00:00        4223  194562   \n",
            "3      259173279      259173350  15FEB2023:00:00:00        4223  194598   \n",
            "4      259173279      259173350  15FEB2023:00:00:00        4223  194628   \n",
            "\n",
            "   ACT_TIME  GPS_LONGITUDE  GPS_LATITUDE  GPS_SATELLITES  GPS_HDOP  \n",
            "0     71279    -122.679572     45.517122               8       1.6  \n",
            "1     71284    -122.679408     45.517392               8       1.9  \n",
            "2     71290    -122.679227     45.517700               8       2.2  \n",
            "3     71295    -122.679048     45.517998               9       0.9  \n",
            "4     71300    -122.678888     45.518255               9       1.3  \n",
            "\n",
            "Trip: 259173398\n",
            "      EVENT_NO_TRIP  EVENT_NO_STOP            OPD_DATE  VEHICLE_ID  METERS  \\\n",
            "5465      259173398      259173399  15FEB2023:00:00:00        4223  203778   \n",
            "5466      259173398      259173399  15FEB2023:00:00:00        4223  203822   \n",
            "5467      259173398      259173399  15FEB2023:00:00:00        4223  203866   \n",
            "5468      259173398      259173399  15FEB2023:00:00:00        4223  203903   \n",
            "5469      259173398      259173399  15FEB2023:00:00:00        4223  203942   \n",
            "\n",
            "      ACT_TIME  GPS_LONGITUDE  GPS_LATITUDE  GPS_SATELLITES  GPS_HDOP  \n",
            "5465     74475    -122.639552     45.572758              12       0.7  \n",
            "5466     74480    -122.640088     45.572900              12       1.1  \n",
            "5467     74485    -122.640610     45.573045              12       0.8  \n",
            "5468     74490    -122.641090     45.572970              12       0.7  \n",
            "5469     74495    -122.641300     45.572650              12       0.7  \n",
            "\n",
            "Trip: 259173498\n",
            "      EVENT_NO_TRIP  EVENT_NO_STOP            OPD_DATE  VEHICLE_ID  METERS  \\\n",
            "5131      259173498      259173583  15FEB2023:00:00:00        4223  251337   \n",
            "5132      259173498      259173583  15FEB2023:00:00:00        4223  251351   \n",
            "5133      259173498      259173585  15FEB2023:00:00:00        4223  251432   \n",
            "5134      259173498      259173585  15FEB2023:00:00:00        4223  251483   \n",
            "5135      259173498      259173585  15FEB2023:00:00:00        4223  251534   \n",
            "\n",
            "      ACT_TIME  GPS_LONGITUDE  GPS_LATITUDE  GPS_SATELLITES  GPS_HDOP  \n",
            "5131     84340    -122.641130     45.541767              12       0.7  \n",
            "5132     84345    -122.641113     45.541903              12       0.6  \n",
            "5133     84375    -122.641133     45.542623              12       0.7  \n",
            "5134     84380    -122.641132     45.543088              12       0.8  \n",
            "5135     84385    -122.641130     45.543557              12       0.7  \n",
            "\n",
            "Trip: 259173605\n",
            "      EVENT_NO_TRIP  EVENT_NO_STOP            OPD_DATE  VEHICLE_ID  METERS  \\\n",
            "5332      259173605      259173606  15FEB2023:00:00:00        4223  255307   \n",
            "5333      259173605      259173606  15FEB2023:00:00:00        4223  255330   \n",
            "5334      259173605      259173606  15FEB2023:00:00:00        4223  255357   \n",
            "5335      259173605      259173606  15FEB2023:00:00:00        4223  255384   \n",
            "5336      259173605      259173606  15FEB2023:00:00:00        4223  255413   \n",
            "\n",
            "      ACT_TIME  GPS_LONGITUDE  GPS_LATITUDE  GPS_SATELLITES  GPS_HDOP  \n",
            "5332     86120    -122.639273     45.572688              11       0.9  \n",
            "5333     86125    -122.639555     45.572742              11       0.9  \n",
            "5334     86130    -122.639882     45.572823              11       0.9  \n",
            "5335     86135    -122.640207     45.572923              12       0.7  \n",
            "5336     86140    -122.640545     45.573027              11       1.0  \n",
            "\n",
            "Trip: 259173647\n",
            "      EVENT_NO_TRIP  EVENT_NO_STOP            OPD_DATE  VEHICLE_ID  METERS  \\\n",
            "5909      259173647      259173648  15FEB2023:00:00:00        4223  264947   \n",
            "5910      259173647      259173648  15FEB2023:00:00:00        4223  264984   \n",
            "5911      259173647      259173648  15FEB2023:00:00:00        4223  265027   \n",
            "5912      259173647      259173648  15FEB2023:00:00:00        4223  265049   \n",
            "5913      259173647      259173648  15FEB2023:00:00:00        4223  265062   \n",
            "\n",
            "      ACT_TIME  GPS_LONGITUDE  GPS_LATITUDE  GPS_SATELLITES  GPS_HDOP  \n",
            "5909     88351    -122.678450     45.517133               7       1.3  \n",
            "5910     88356    -122.678615     45.516825               8       1.2  \n",
            "5911     88361    -122.678808     45.516458               7       2.2  \n",
            "5912     88366    -122.678927     45.516245               9       2.9  \n",
            "5913     88371    -122.678995     45.516155               9       1.1  \n",
            "\n",
            "Trip: 259173705\n",
            "      EVENT_NO_TRIP  EVENT_NO_STOP            OPD_DATE  VEHICLE_ID  METERS  \\\n",
            "6582      259173705      259173706  15FEB2023:00:00:00        4223  280195   \n",
            "6583      259173705      259173706  15FEB2023:00:00:00        4223  280262   \n",
            "6584      259173705      259173706  15FEB2023:00:00:00        4223  280323   \n",
            "6585      259173705      259173707  15FEB2023:00:00:00        4223  280356   \n",
            "6586      259173705      259173707  15FEB2023:00:00:00        4223  280364   \n",
            "\n",
            "      ACT_TIME  GPS_LONGITUDE  GPS_LATITUDE  GPS_SATELLITES  GPS_HDOP  \n",
            "6582     90596    -122.525312     45.489597              12       0.7  \n",
            "6583     90601    -122.524697     45.489198              12       0.7  \n",
            "6584     90606    -122.524185     45.488793              12       0.7  \n",
            "6585     90611    -122.523773     45.488682              12       0.8  \n",
            "6586     90616    -122.523673     45.488670              12       0.8  \n"
          ]
        }
      ]
    },
    {
      "cell_type": "code",
      "source": [
        "import pandas as pd\n",
        "import numpy as np\n",
        "\n",
        "# Read the larger dataset into a DataFrame\n",
        "df_large = pd.read_csv(\"bc_veh4223_230215.csv\")\n",
        "\n",
        "# Group the data by 'EVENT_NO_TRIP'\n",
        "grouped_large = df_large.groupby('EVENT_NO_TRIP')\n",
        "\n",
        "# Initialize an empty list to store the transformed DataFrames\n",
        "dfs_large = []\n",
        "\n",
        "# Iterate over each group and perform transformations\n",
        "for name, group_large in grouped_large:\n",
        "    # Step 3: Perform transformations (filtering, decoding timestamp, calculating speed)\n",
        "    # Filtering: Drop unnecessary columns\n",
        "    group_large = group_large.drop(columns=['EVENT_NO_STOP', 'GPS_SATELLITES', 'GPS_HDOP'])\n",
        "\n",
        "    # Decoding timestamp\n",
        "    # Decoding timestamp\n",
        "    group_large['TIMESTAMP'] = pd.to_datetime(group_large['OPD_DATE'], format='%d%b%Y:%H:%M:%S') + pd.to_timedelta(group_large['ACT_TIME'], unit='s')\n",
        "\n",
        "\n",
        "    # Calculate time difference and distance traveled\n",
        "    group_large['dTIMESTAMP'] = group_large['TIMESTAMP'].diff()\n",
        "    group_large['dMETERS'] = group_large['METERS'].diff()\n",
        "\n",
        "    try:\n",
        "        # Calculate speed\n",
        "        group_large['SPEED'] = group_large['dMETERS'] / group_large['dTIMESTAMP'].dt.total_seconds()\n",
        "    except KeyError:\n",
        "        # Handle missing 'SPEED' column gracefully\n",
        "        group_large['SPEED'] = np.nan\n",
        "\n",
        "    # Drop intermediate columns\n",
        "    group_large = group_large.drop(columns=['dTIMESTAMP', 'dMETERS'])\n",
        "\n",
        "    # Append the transformed DataFrame to the list\n",
        "    dfs_large.append(group_large)\n",
        "\n",
        "# Combine the transformed DataFrames into a single DataFrame\n",
        "df_large_transformed = pd.concat(dfs_large)\n",
        "\n",
        "# Display the first few rows of the transformed DataFrame\n",
        "print(df_large_transformed.head())\n",
        "\n",
        "# Calculate maximum speed for vehicle #4223 on February 15, 2023\n",
        "max_speed_large = df_large_transformed['SPEED'].max()\n",
        "print(\"\\nMaximum speed for vehicle #4223 on February 15, 2023:\", max_speed_large)\n",
        "\n",
        "# Location and time where the maximum speed occurred\n",
        "max_speed_row_large = df_large_transformed[df_large_transformed['SPEED'] == max_speed_large].iloc[0]\n",
        "print(\"Location (Longitude, Latitude):\", max_speed_row_large['GPS_LONGITUDE'], max_speed_row_large['GPS_LATITUDE'])\n",
        "print(\"Time of occurrence:\", max_speed_row_large['TIMESTAMP'])\n",
        "\n",
        "# Calculate median speed for vehicle #4223 on February 15, 2023\n",
        "median_speed_large = df_large_transformed['SPEED'].median()\n",
        "print(\"\\nMedian speed for vehicle #4223 on February 15, 2023:\", median_speed_large)"
      ],
      "metadata": {
        "colab": {
          "base_uri": "https://localhost:8080/"
        },
        "id": "7AX4iKW1APDs",
        "outputId": "98b476c8-6b9d-47ba-c061-8f774776970f"
      },
      "execution_count": null,
      "outputs": [
        {
          "output_type": "stream",
          "name": "stdout",
          "text": [
            "      EVENT_NO_TRIP            OPD_DATE  VEHICLE_ID  METERS  ACT_TIME  \\\n",
            "3617      259169000  15FEB2023:00:00:00        4029    4223     25641   \n",
            "2313      259172515  15FEB2023:00:00:00        4223      40     20469   \n",
            "2314      259172515  15FEB2023:00:00:00        4223      48     20474   \n",
            "2315      259172515  15FEB2023:00:00:00        4223      57     20479   \n",
            "2316      259172515  15FEB2023:00:00:00        4223      73     20484   \n",
            "\n",
            "      GPS_LONGITUDE  GPS_LATITUDE           TIMESTAMP  SPEED  \n",
            "3617    -122.684340     45.508072 2023-02-15 07:07:21    NaN  \n",
            "2313    -122.648137     45.493082 2023-02-15 05:41:09    NaN  \n",
            "2314    -122.648240     45.493070 2023-02-15 05:41:14    1.6  \n",
            "2315    -122.648352     45.493123 2023-02-15 05:41:19    1.8  \n",
            "2316    -122.648385     45.493262 2023-02-15 05:41:24    3.2  \n",
            "\n",
            "Maximum speed for vehicle #4223 on February 15, 2023: 17.4\n",
            "Location (Longitude, Latitude): -122.660822 45.505452\n",
            "Time of occurrence: 2023-02-15 05:44:49\n",
            "\n",
            "Median speed for vehicle #4223 on February 15, 2023: 7.2\n"
          ]
        }
      ]
    },
    {
      "cell_type": "code",
      "source": [
        "# Calculate time difference and distance traveled\n",
        "group_large['dTIMESTAMP'] = group_large['TIMESTAMP'].diff()\n",
        "group_large['dMETERS'] = group_large['METERS'].diff()\n",
        "\n",
        "# Calculate speed\n",
        "group_large['SPEED'] = group_large['dMETERS'] / group_large['dTIMESTAMP'].dt.total_seconds()\n",
        "\n",
        "# Drop intermediate columns\n",
        "group_large = group_large.drop(columns=['dTIMESTAMP', 'dMETERS'])\n",
        "\n",
        "# Append the transformed DataFrame to the list\n",
        "dfs_large.append(group_large)"
      ],
      "metadata": {
        "id": "Qf8BoCvoOMFR"
      },
      "execution_count": null,
      "outputs": []
    },
    {
      "cell_type": "code",
      "source": [
        "# Combine the transformed DataFrames into a single DataFrame\n",
        "df_large_transformed = pd.concat(dfs_large)\n",
        "\n",
        "# Display the first few rows of the transformed DataFrame\n",
        "print(df_large_transformed.head())"
      ],
      "metadata": {
        "colab": {
          "base_uri": "https://localhost:8080/"
        },
        "id": "qQfxAZwoD784",
        "outputId": "abf8fa27-42a3-41cb-c71e-97c447d0535a"
      },
      "execution_count": null,
      "outputs": [
        {
          "output_type": "stream",
          "name": "stdout",
          "text": [
            "      EVENT_NO_TRIP            OPD_DATE  VEHICLE_ID  METERS  ACT_TIME  \\\n",
            "3617      259169000  15FEB2023:00:00:00        4029    4223     25641   \n",
            "2313      259172515  15FEB2023:00:00:00        4223      40     20469   \n",
            "2314      259172515  15FEB2023:00:00:00        4223      48     20474   \n",
            "2315      259172515  15FEB2023:00:00:00        4223      57     20479   \n",
            "2316      259172515  15FEB2023:00:00:00        4223      73     20484   \n",
            "\n",
            "      GPS_LONGITUDE  GPS_LATITUDE           TIMESTAMP  SPEED dTIMESTAMP  \\\n",
            "3617    -122.684340     45.508072 2023-02-15 07:07:21    NaN        NaT   \n",
            "2313    -122.648137     45.493082 2023-02-15 05:41:09    NaN        NaT   \n",
            "2314    -122.648240     45.493070 2023-02-15 05:41:14    1.6        NaT   \n",
            "2315    -122.648352     45.493123 2023-02-15 05:41:19    1.8        NaT   \n",
            "2316    -122.648385     45.493262 2023-02-15 05:41:24    3.2        NaT   \n",
            "\n",
            "      dMETERS  \n",
            "3617      NaN  \n",
            "2313      NaN  \n",
            "2314      NaN  \n",
            "2315      NaN  \n",
            "2316      NaN  \n"
          ]
        }
      ]
    },
    {
      "cell_type": "code",
      "source": [
        "# Calculate time difference and distance traveled\n",
        "df_large_transformed['dTIMESTAMP'] = df_large_transformed.groupby('EVENT_NO_TRIP')['TIMESTAMP'].diff()\n",
        "df_large_transformed['dMETERS'] = df_large_transformed.groupby('EVENT_NO_TRIP')['METERS'].diff()\n",
        "\n",
        "# Calculate speed\n",
        "df_large_transformed['SPEED'] = df_large_transformed['dMETERS'] / df_large_transformed['dTIMESTAMP'].dt.total_seconds()\n",
        "\n",
        "# Drop intermediate columns\n",
        "df_large_transformed = df_large_transformed.drop(columns=['dTIMESTAMP', 'dMETERS'])\n",
        "\n",
        "# Display the first few rows of the DataFrame with the new 'SPEED' column\n",
        "print(df_large_transformed.head())"
      ],
      "metadata": {
        "colab": {
          "base_uri": "https://localhost:8080/"
        },
        "id": "ZjmLvLLwEIH0",
        "outputId": "d3f15a29-3b96-4122-a7ea-9cbbefc4de2d"
      },
      "execution_count": null,
      "outputs": [
        {
          "output_type": "stream",
          "name": "stdout",
          "text": [
            "      EVENT_NO_TRIP            OPD_DATE  VEHICLE_ID  METERS  ACT_TIME  \\\n",
            "3617      259169000  15FEB2023:00:00:00        4029    4223     25641   \n",
            "2313      259172515  15FEB2023:00:00:00        4223      40     20469   \n",
            "2314      259172515  15FEB2023:00:00:00        4223      48     20474   \n",
            "2315      259172515  15FEB2023:00:00:00        4223      57     20479   \n",
            "2316      259172515  15FEB2023:00:00:00        4223      73     20484   \n",
            "\n",
            "      GPS_LONGITUDE  GPS_LATITUDE           TIMESTAMP  SPEED  \n",
            "3617    -122.684340     45.508072 2023-02-15 07:07:21    NaN  \n",
            "2313    -122.648137     45.493082 2023-02-15 05:41:09    NaN  \n",
            "2314    -122.648240     45.493070 2023-02-15 05:41:14    1.6  \n",
            "2315    -122.648352     45.493123 2023-02-15 05:41:19    1.8  \n",
            "2316    -122.648385     45.493262 2023-02-15 05:41:24    3.2  \n"
          ]
        }
      ]
    },
    {
      "cell_type": "code",
      "source": [
        "# Filter the DataFrame for vehicle #4223\n",
        "vehicle_4223_data = df_large_transformed[df_large_transformed['VEHICLE_ID'] == 4223]\n",
        "\n",
        "# Find the maximum speed\n",
        "max_speed_4223 = vehicle_4223_data['SPEED'].max()\n",
        "\n",
        "# Find the row with the maximum speed\n",
        "max_speed_row_4223 = vehicle_4223_data[vehicle_4223_data['SPEED'] == max_speed_4223]\n",
        "\n",
        "# Print the maximum speed and corresponding row\n",
        "print(\"Maximum speed for vehicle #4223:\", max_speed_4223)\n",
        "print(\"Location and time of maximum speed:\")\n",
        "print(max_speed_row_4223[['GPS_LATITUDE', 'GPS_LONGITUDE', 'TIMESTAMP']])"
      ],
      "metadata": {
        "colab": {
          "base_uri": "https://localhost:8080/"
        },
        "id": "yeA_YyXXERZU",
        "outputId": "226a89a5-a25e-4f8a-a8a8-8a9ad343a099"
      },
      "execution_count": null,
      "outputs": [
        {
          "output_type": "stream",
          "name": "stdout",
          "text": [
            "Maximum speed for vehicle #4223: 17.4\n",
            "Location and time of maximum speed:\n",
            "      GPS_LATITUDE  GPS_LONGITUDE           TIMESTAMP\n",
            "2356     45.505452    -122.660822 2023-02-15 05:44:49\n",
            "6573     45.489627    -122.535638 2023-02-16 01:09:01\n"
          ]
        }
      ]
    },
    {
      "cell_type": "code",
      "source": [
        "# Find the row(s) where the maximum speed occurred\n",
        "max_speed_row_4223 = vehicle_4223_data[vehicle_4223_data['SPEED'] == max_speed_4223]\n",
        "\n",
        "# Extract the timestamp and location information\n",
        "timestamp_max_speed = max_speed_row_4223['TIMESTAMP'].values[0]\n",
        "location_max_speed = (max_speed_row_4223['GPS_LATITUDE'].values[0], max_speed_row_4223['GPS_LONGITUDE'].values[0])\n",
        "\n",
        "print(\"Maximum speed for vehicle #4223 occurred at:\")\n",
        "print(\"Timestamp:\", timestamp_max_speed)\n",
        "print(\"Location (Latitude, Longitude):\", location_max_speed)"
      ],
      "metadata": {
        "colab": {
          "base_uri": "https://localhost:8080/"
        },
        "id": "UKy1qExgFFvt",
        "outputId": "60119f55-296d-470e-9d2f-dd40ec4f1467"
      },
      "execution_count": null,
      "outputs": [
        {
          "output_type": "stream",
          "name": "stdout",
          "text": [
            "Maximum speed for vehicle #4223 occurred at:\n",
            "Timestamp: 2023-02-15T05:44:49.000000000\n",
            "Location (Latitude, Longitude): (45.505452, -122.660822)\n"
          ]
        }
      ]
    },
    {
      "cell_type": "code",
      "source": [
        "# Calculate the median speed for vehicle #4223\n",
        "median_speed_4223 = vehicle_4223_data['SPEED'].median()\n",
        "\n",
        "print(\"Median speed for vehicle #4223 on February 15, 2023:\", median_speed_4223)"
      ],
      "metadata": {
        "colab": {
          "base_uri": "https://localhost:8080/"
        },
        "id": "md_HzQOHFUDa",
        "outputId": "c474d7de-eff0-48ba-952a-329b5da0a60a"
      },
      "execution_count": null,
      "outputs": [
        {
          "output_type": "stream",
          "name": "stdout",
          "text": [
            "Median speed for vehicle #4223 on February 15, 2023: 7.4\n"
          ]
        }
      ]
    },
    {
      "cell_type": "code",
      "source": [
        "import pandas as pd\n",
        "\n",
        "# Step 1: Read the full dataset into a DataFrame\n",
        "df_full = pd.read_csv(\"bc_230215.csv\")\n",
        "\n",
        "# Step 2: Filter out unnecessary columns\n",
        "columns_to_drop = ['EVENT_NO_STOP', 'GPS_SATELLITES', 'GPS_HDOP']\n",
        "df_full = df_full.drop(columns=columns_to_drop)\n",
        "\n",
        "# Step 3: Decode the timestamp\n",
        "def decode_timestamp(row):\n",
        "    opd_date = pd.to_datetime(row['OPD_DATE'], format='%d%b%Y:%H:%M:%S')\n",
        "    act_time = pd.to_timedelta(row['ACT_TIME'], unit='s')\n",
        "    return opd_date + act_time\n",
        "\n",
        "df_full['TIMESTAMP'] = df_full.apply(decode_timestamp, axis=1)\n",
        "\n",
        "# Step 4: Calculate time difference and distance traveled\n",
        "df_full['dTIMESTAMP'] = df_full.groupby('EVENT_NO_TRIP')['TIMESTAMP'].diff()\n",
        "df_full['dMETERS'] = df_full.groupby('EVENT_NO_TRIP')['METERS'].diff()\n",
        "\n",
        "# Step 5: Calculate speed\n",
        "df_full['SPEED'] = df_full['dMETERS'] / df_full['dTIMESTAMP'].dt.total_seconds()\n",
        "\n",
        "# Step 6: Drop intermediate columns\n",
        "df_full = df_full.drop(columns=['dTIMESTAMP', 'dMETERS'])\n",
        "\n",
        "# Analyze the data to answer questions related to the full dataset\n",
        "# For example:\n",
        "# What was the maximum speed for any vehicle on February 15, 2023?\n",
        "max_speed = df_full['SPEED'].max()\n",
        "print(\"Maximum speed for any vehicle:\", max_speed)\n",
        "\n",
        "# Where and when did this maximum speed occur?\n",
        "max_speed_row = df_full[df_full['SPEED'] == max_speed].iloc[0]\n",
        "print(\"Location:\", max_speed_row['GPS_LATITUDE'], max_speed_row['GPS_LONGITUDE'])\n",
        "print(\"Timestamp:\", max_speed_row['TIMESTAMP'])\n",
        "\n",
        "# Which vehicle had the fastest mean speed for any single trip on this day?\n",
        "fastest_vehicle_trip = df_full.groupby(['VEHICLE_ID', 'EVENT_NO_TRIP'])['SPEED'].mean().idxmax()\n",
        "fastest_vehicle_id = int(fastest_vehicle_trip[0])  # Convert to integer\n",
        "fastest_trip_id = fastest_vehicle_trip[1]\n",
        "print(\"Fastest vehicle:\", fastest_vehicle_id)\n",
        "print(\"Fastest trip:\", fastest_trip_id)"
      ],
      "metadata": {
        "colab": {
          "base_uri": "https://localhost:8080/"
        },
        "id": "dQah88mEyUVI",
        "outputId": "d3cbe247-c9cb-4b2a-b5a7-e73c1982f618"
      },
      "execution_count": null,
      "outputs": [
        {
          "output_type": "stream",
          "name": "stdout",
          "text": [
            "Maximum speed for any vehicle: 200.33333333333334\n",
            "Location: 45.509918 -122.879553\n",
            "Timestamp: 2023-02-15 18:05:38\n",
            "Fastest vehicle: 3419\n",
            "Fastest trip: 258614729\n"
          ]
        }
      ]
    },
    {
      "cell_type": "code",
      "source": [
        "import pandas as pd\n",
        "\n",
        "# Step 1: Read the full dataset into a DataFrame\n",
        "df_full = pd.read_csv(\"bc_230215.csv\")\n",
        "\n",
        "# Step 2: Filter out unnecessary columns\n",
        "columns_to_drop = ['EVENT_NO_STOP', 'GPS_SATELLITES', 'GPS_HDOP']\n",
        "df_full = df_full.drop(columns=columns_to_drop)\n",
        "\n",
        "# Step 3: Decode the timestamp\n",
        "def decode_timestamp(row):\n",
        "    opd_date = pd.to_datetime(row['OPD_DATE'], format='%d%b%Y:%H:%M:%S')\n",
        "    act_time = pd.to_timedelta(row['ACT_TIME'], unit='s')\n",
        "    return opd_date + act_time\n",
        "\n",
        "df_full['TIMESTAMP'] = df_full.apply(decode_timestamp, axis=1)\n",
        "\n",
        "# Step 4: Calculate time difference and distance traveled\n",
        "df_full['dTIMESTAMP'] = df_full.groupby('EVENT_NO_TRIP')['TIMESTAMP'].diff()\n",
        "df_full['dMETERS'] = df_full.groupby('EVENT_NO_TRIP')['METERS'].diff()\n",
        "\n",
        "# Step 5: Calculate speed\n",
        "df_full['SPEED'] = df_full['dMETERS'] / df_full['dTIMESTAMP'].dt.total_seconds()\n",
        "\n",
        "# Step 6: Drop intermediate columns\n",
        "df_full = df_full.drop(columns=['dTIMESTAMP', 'dMETERS'])\n",
        "\n",
        "# Analyze the data to answer questions related to the full dataset\n",
        "# For example:\n",
        "# What was the maximum speed for any vehicle on February 15, 2023?\n",
        "max_speed = df_full['SPEED'].max()\n",
        "print(\"Maximum speed for any vehicle:\", max_speed)\n",
        "\n",
        "# Where and when did this maximum speed occur?\n",
        "max_speed_row = df_full[df_full['SPEED'] == max_speed].iloc[0]\n",
        "print(\"Location:\", max_speed_row['GPS_LATITUDE'], max_speed_row['GPS_LONGITUDE'])\n",
        "print(\"Timestamp:\", max_speed_row['TIMESTAMP'])\n",
        "\n",
        "# Which vehicle had the fastest mean speed for any single trip on this day?\n",
        "fastest_vehicle_trip = df_full.groupby(['VEHICLE_ID', 'EVENT_NO_TRIP'])['SPEED'].mean().idxmax()\n",
        "fastest_vehicle_id = fastest_vehicle_trip[0]\n",
        "fastest_trip_id = fastest_vehicle_trip[1]\n",
        "print(\"Fastest vehicle:\", fastest_vehicle_id)\n",
        "print(\"Fastest trip:\", fastest_trip_id)"
      ],
      "metadata": {
        "colab": {
          "base_uri": "https://localhost:8080/"
        },
        "id": "6aqeVcs41ltQ",
        "outputId": "83fa7489-f2b9-4c82-93f1-a58ee8ef1e90"
      },
      "execution_count": null,
      "outputs": [
        {
          "output_type": "stream",
          "name": "stdout",
          "text": [
            "Maximum speed for any vehicle: 200.33333333333334\n",
            "Location: 45.509918 -122.879553\n",
            "Timestamp: 2023-02-15 18:05:38\n",
            "Fastest vehicle: 3419\n",
            "Fastest trip: 258614729\n"
          ]
        }
      ]
    }
  ]
}